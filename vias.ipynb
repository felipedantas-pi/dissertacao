{
 "cells": [
  {
   "cell_type": "code",
   "execution_count": 1,
   "id": "6db03dba",
   "metadata": {},
   "outputs": [],
   "source": [
    "import pandas as pd\n",
    "import geopandas as gpd\n",
    "import duckdb\n",
    "from shapely import wkt"
   ]
  },
  {
   "cell_type": "code",
   "execution_count": 2,
   "id": "af0b1286",
   "metadata": {},
   "outputs": [
    {
     "data": {
      "text/html": [
       "<span style=\"None\">The &#x27;toml&#x27; package isn&#x27;t installed. To load settings from pyproject.toml or ~/.jupysql/config, install with: pip install toml</span>"
      ],
      "text/plain": [
       "The 'toml' package isn't installed. To load settings from pyproject.toml or ~/.jupysql/config, install with: pip install toml"
      ]
     },
     "metadata": {},
     "output_type": "display_data"
    }
   ],
   "source": [
    "%reload_ext sql"
   ]
  },
  {
   "cell_type": "code",
   "execution_count": 3,
   "id": "248d250c",
   "metadata": {},
   "outputs": [
    {
     "data": {
      "text/html": [
       "<span style=\"None\">Connecting to &#x27;duckdb://&#x27;</span>"
      ],
      "text/plain": [
       "Connecting to 'duckdb://'"
      ]
     },
     "metadata": {},
     "output_type": "display_data"
    }
   ],
   "source": [
    "# DuckDB in-memory database\n",
    "%sql duckdb://"
   ]
  },
  {
   "cell_type": "markdown",
   "id": "0a7f1890",
   "metadata": {},
   "source": [
    "Em seguida, instalaremos e carregaremos extensões do DuckDB para trabalhar com dados espaciais e nos conectarmos à AWS. (Ou você pode usar a extensão do Azure para se conectar aos armazenamentos de dados do Overture no Azure.)"
   ]
  },
  {
   "cell_type": "code",
   "execution_count": 4,
   "id": "7daf180f",
   "metadata": {},
   "outputs": [
    {
     "data": {
      "text/html": [
       "<span style=\"None\">Running query in &#x27;duckdb://&#x27;</span>"
      ],
      "text/plain": [
       "Running query in 'duckdb://'"
      ]
     },
     "metadata": {},
     "output_type": "display_data"
    },
    {
     "data": {
      "text/html": [
       "<span style=\"None\">Running query in &#x27;duckdb://&#x27;</span>"
      ],
      "text/plain": [
       "Running query in 'duckdb://'"
      ]
     },
     "metadata": {},
     "output_type": "display_data"
    },
    {
     "data": {
      "text/html": [
       "<span style=\"None\">Running query in &#x27;duckdb://&#x27;</span>"
      ],
      "text/plain": [
       "Running query in 'duckdb://'"
      ]
     },
     "metadata": {},
     "output_type": "display_data"
    },
    {
     "data": {
      "text/html": [
       "<span style=\"None\">Running query in &#x27;duckdb://&#x27;</span>"
      ],
      "text/plain": [
       "Running query in 'duckdb://'"
      ]
     },
     "metadata": {},
     "output_type": "display_data"
    },
    {
     "data": {
      "text/html": [
       "<span style=\"None\">Running query in &#x27;duckdb://&#x27;</span>"
      ],
      "text/plain": [
       "Running query in 'duckdb://'"
      ]
     },
     "metadata": {},
     "output_type": "display_data"
    },
    {
     "data": {
      "text/html": [
       "<table>\n",
       "    <thead>\n",
       "        <tr>\n",
       "            <th>Success</th>\n",
       "        </tr>\n",
       "    </thead>\n",
       "    <tbody>\n",
       "    </tbody>\n",
       "</table>"
      ],
      "text/plain": [
       "+---------+\n",
       "| Success |\n",
       "+---------+\n",
       "+---------+"
      ]
     },
     "execution_count": null,
     "metadata": {},
     "output_type": "execute_result"
    }
   ],
   "source": [
    "%sql INSTALL spatial;\n",
    "%sql INSTALL httpfs;\n",
    "%sql LOAD spatial;\n",
    "%sql LOAD httpfs;\n",
    "\n",
    "%sql SET s3_region='us-west-2'"
   ]
  },
  {
   "cell_type": "markdown",
   "id": "0c828a30",
   "metadata": {},
   "source": [
    "Podemos definir as configurações no JupySQL para enviar dados diretamente para o Pandas e simplificar a saída impressa no notebook."
   ]
  },
  {
   "cell_type": "code",
   "execution_count": 5,
   "id": "d963312c",
   "metadata": {},
   "outputs": [],
   "source": [
    "%config SqlMagic.autopandas = True\n",
    "%config SqlMagic.feedback = False\n",
    "%config SqlMagic.displaycon = False"
   ]
  },
  {
   "cell_type": "code",
   "execution_count": null,
   "id": "506f38eb",
   "metadata": {},
   "outputs": [],
   "source": []
  },
  {
   "cell_type": "code",
   "execution_count": 11,
   "id": "af59d569",
   "metadata": {},
   "outputs": [
    {
     "name": "stderr",
     "output_type": "stream",
     "text": [
      "RuntimeError: (_duckdb.TransactionException) TransactionContext Error: Current transaction is aborted (please ROLLBACK)\n",
      "[SQL: SELECT\n",
      "    id,\n",
      "    subtype,\n",
      "    class,\n",
      "    names.primary as name,\n",
      "    connectors,\n",
      "    routes,\n",
      "    subclass_rules,\n",
      "    access_restrictions,\n",
      "    level_rules,\n",
      "    destinations,\n",
      "    prohibited_transitions,\n",
      "    road_surface,\n",
      "    road_flags,\n",
      "    speed_limits,\n",
      "    width_rules,\n",
      "    subclass,\n",
      "    filename,\n",
      "    theme,\n",
      "    type,\n",
      "    ST_AsText(geometry) as geometry\n",
      "FROM\n",
      "    read_parquet('s3://overturemaps-us-west-2/release/2025-09-24.0/theme=transportation/type=segment/*', filename=true, hive_partitioning=1)\n",
      "WHERE\n",
      "    bbox.xmin >= -42.865397\n",
      "        and bbox.xmax <= -42.662587\n",
      "        and bbox.ymin >= -5.231538\n",
      "        and bbox.ymax <= -4.955767]\n",
      "(Background on this error at: https://sqlalche.me/e/20/e3q8)\n"
     ]
    }
   ],
   "source": [
    "%%sql road_teresina <<\n",
    "SELECT\n",
    "    id,\n",
    "    subtype,\n",
    "    class,\n",
    "    names.primary as name,\n",
    "    connectors,\n",
    "    routes,\n",
    "    subclass_rules,\n",
    "    access_restrictions,\n",
    "    level_rules,\n",
    "    destinations,\n",
    "    prohibited_transitions,\n",
    "    road_surface,\n",
    "    road_flags,\n",
    "    speed_limits,\n",
    "    width_rules,\n",
    "    subclass,\n",
    "    filename,\n",
    "    theme,\n",
    "    type,\n",
    "    ST_AsText(geometry) as geometry\n",
    "FROM\n",
    "    read_parquet('s3://overturemaps-us-west-2/release/2025-09-24.0/theme=transportation/type=segment/*', filename=true, hive_partitioning=1)\n",
    "WHERE\n",
    "    bbox.xmin >= -42.865397\n",
    "        and bbox.xmax <= -42.662587\n",
    "        and bbox.ymin >= -5.231538\n",
    "        and bbox.ymax <= -4.955767"
   ]
  },
  {
   "cell_type": "code",
   "execution_count": null,
   "id": "48a6d715",
   "metadata": {},
   "outputs": [],
   "source": []
  }
 ],
 "metadata": {
  "language_info": {
   "name": "python"
  }
 },
 "nbformat": 4,
 "nbformat_minor": 5
}
