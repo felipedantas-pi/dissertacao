{
 "cells": [
  {
   "cell_type": "code",
   "execution_count": 2,
   "id": "01d8be69",
   "metadata": {},
   "outputs": [
    {
     "name": "stdout",
     "output_type": "stream",
     "text": [
      "All dependencies loaded successfully!\n",
      "city2graph version: 0.1.6\n"
     ]
    }
   ],
   "source": [
    "# Geospatial data processing\n",
    "import numpy as np\n",
    "import geopandas as gpd\n",
    "import networkx as nx\n",
    "from shapely import Point\n",
    "\n",
    "\n",
    "# Mapping and visualization\n",
    "import contextily as ctx\n",
    "import matplotlib.pyplot as plt\n",
    "import matplotlib.lines as mlines\n",
    "\n",
    "# Network analysis\n",
    "import osmnx as ox\n",
    "\n",
    "# The star of the show: city2graph for transportation network analysis\n",
    "import city2graph\n",
    "\n",
    "# Configure matplotlib for publication-quality visualizations\n",
    "plt.rcParams['figure.figsize'] = (15, 12)\n",
    "plt.rcParams['figure.dpi'] = 100\n",
    "plt.rcParams['font.size'] = 11\n",
    "plt.style.use('ggplot')\n",
    "#plt.style.use('default')  # Clean default style instead of ggplot\n",
    "\n",
    "print(\"All dependencies loaded successfully!\")\n",
    "print(f\"city2graph version: {city2graph.__version__ if hasattr(city2graph, '__version__') else 'development'}\")"
   ]
  },
  {
   "cell_type": "code",
   "execution_count": null,
   "id": "6df91285",
   "metadata": {},
   "outputs": [
    {
     "name": "stdout",
     "output_type": "stream",
     "text": [
      "Data loading configuration complete\n",
      "To download fresh data, uncomment the city2graph.load_overture_data() call above\n"
     ]
    }
   ],
   "source": [
    "# Download data from Overture Maps (uncomment to download fresh data)\n",
    "# This downloads building footprints, road segments, and connectors for Liverpool city centre\n",
    "\n",
    "bbox = [-42.865397,-5.231538,-42.662587,-4.955767] # Teresina city centre bounding box\n",
    "\n",
    "city2graph.load_overture_data(\n",
    "    area=bbox,\n",
    "    types=[\"segment\", \"building\", \"connector\"],\n",
    "    output_dir=\"./dados/dados_intermediarios/\",\n",
    "    prefix=\"teresina_\",\n",
    "    save_to_file=True,\n",
    "    return_data=False\n",
    ")\n",
    "\n",
    "print(\"Data loading configuration complete\")\n",
    "print(\"To download fresh data, uncomment the city2graph.load_overture_data() call above\")"
   ]
  },
  {
   "cell_type": "code",
   "execution_count": 3,
   "id": "cd089f3a",
   "metadata": {},
   "outputs": [
    {
     "name": "stdout",
     "output_type": "stream",
     "text": [
      "✅ Data loaded successfully!\n",
      "📊 Dataset summary:\n",
      "   • Buildings: 433,496\n",
      "   • Road segments: 54,077\n",
      "   • Connectors: 39,091\n",
      "   • CRS: EPSG:31983\n"
     ]
    }
   ],
   "source": [
    "# Load the downloaded GeoJSON files\n",
    "buildings_gdf = gpd.read_file(\"./dados/dados_intermediarios/teresina_building.geojson\")\n",
    "segments_gdf = gpd.read_file(\"./dados/dados_intermediarios/teresina_segment.geojson\")\n",
    "connectors_gdf = gpd.read_file(\"./dados/dados_intermediarios/teresina_connector.geojson\")\n",
    "\n",
    "# Convert to UTM 23 Sul Grade (EPSG:31983) for accurate distance calculations\n",
    "buildings_gdf = buildings_gdf.to_crs(epsg=31983)\n",
    "segments_gdf = segments_gdf.to_crs(epsg=31983)\n",
    "connectors_gdf = connectors_gdf.to_crs(epsg=31983)\n",
    "\n",
    "print(\"✅ Data loaded successfully!\")\n",
    "print(f\"📊 Dataset summary:\")\n",
    "print(f\"   • Buildings: {len(buildings_gdf):,}\")\n",
    "print(f\"   • Road segments: {len(segments_gdf):,}\")\n",
    "print(f\"   • Connectors: {len(connectors_gdf):,}\")\n",
    "print(f\"   • CRS: {buildings_gdf.crs}\")"
   ]
  },
  {
   "cell_type": "markdown",
   "id": "579495e1",
   "metadata": {},
   "source": [
    "# 3. Street Network Processing\n",
    "\n",
    "Before creating morphological graphs, we need to process the raw street data. This involves:\n",
    "\n",
    "1. **Filtering**: Keep only road segments (exclude pedestrian paths, railways, etc.)\n",
    "2. **Barrier Processing**: Handle bridges and tunnels to create accurate spatial barriers\n",
    "3. **Network Cleanup**: Ensure proper connectivity for graph operations\n",
    "\n",
    "The `barrier_geometry` column will contain the processed geometries that act as spatial barriers for tessellation."
   ]
  },
  {
   "cell_type": "code",
   "execution_count": 4,
   "id": "207a65ce",
   "metadata": {},
   "outputs": [
    {
     "name": "stdout",
     "output_type": "stream",
     "text": [
      "✅ Processed 59448 road segments\n",
      "📈 Barrier geometries created for tessellation\n",
      "\n",
      "🔍 Barrier geometry types:\n",
      "   • LineString: 59,277\n",
      "   • MultiLineString: 94\n"
     ]
    }
   ],
   "source": [
    "# Filter to keep only road segments (excluding pedestrian paths, railways, etc.)\n",
    "segments_gdf = segments_gdf[segments_gdf[\"subtype\"] == \"road\"].copy()\n",
    "\n",
    "# Process segments to handle bridges/tunnels and create proper spatial barriers\n",
    "segments_gdf = city2graph.process_overture_segments(\n",
    "    segments_gdf=segments_gdf,\n",
    "    get_barriers=True,\n",
    "    connectors_gdf=connectors_gdf\n",
    ")\n",
    "\n",
    "print(f\"✅ Processed {len(segments_gdf)} road segments\")\n",
    "print(f\"📈 Barrier geometries created for tessellation\")\n",
    "\n",
    "# Check the geometry types in the barrier_geometry column\n",
    "geometry_types = segments_gdf[\"barrier_geometry\"].geom_type.value_counts()\n",
    "print(f\"\\n🔍 Barrier geometry types:\")\n",
    "for geom_type, count in geometry_types.items():\n",
    "    print(f\"   • {geom_type}: {count:,}\")"
   ]
  },
  {
   "cell_type": "markdown",
   "id": "75478863",
   "metadata": {},
   "source": [
    "# 4. Creating Morphological Graphs\n",
    "\n",
    "Now we’ll create the morphological graph - the core contribution of city2graph. This process:"
   ]
  },
  {
   "cell_type": "markdown",
   "id": "665a6b33",
   "metadata": {},
   "source": [
    "![image.png](https://city2graph.net/_images/morph_net_process.png)"
   ]
  },
  {
   "cell_type": "markdown",
   "id": "68b031ce",
   "metadata": {},
   "source": [
    "## The Process:\n",
    "\n",
    "1. **Tessellation Creation**: Divide space into private areas using street segments as barriers\n",
    "2. **Network Extraction**: Identify three types of spatial relationships:\n",
    "    - Private-to-private (red): Adjacency between neighboring private spaces\n",
    "    - Public-to-public (blue): Connectivity along street networks\n",
    "    - Private-to-public (purple): Interface between private spaces and streets\n",
    "\n",
    "## Why Morphological Graphs?\n",
    "\n",
    "Unlike traditional approaches that analyze street networks and buildings separately, morphological graphs provide a **unified representation** of urban space that:\n",
    "\n",
    "- Captures the complete topology of public and private spaces\n",
    "- Enables holistic urban analysis combining street accessibility and land use\n",
    "- Provides a foundation for spatially-explicit graph machine learning\n",
    "- Supports integration of diverse urban attributes (POIs, demographics, functions)"
   ]
  },
  {
   "cell_type": "code",
   "execution_count": null,
   "id": "2c8536a3",
   "metadata": {},
   "outputs": [
    {
     "name": "stderr",
     "output_type": "stream",
     "text": [
      "Removed 2 invalid geometries\n"
     ]
    },
    {
     "name": "stdout",
     "output_type": "stream",
     "text": [
      "🏗️  Creating morphological graph...\n"
     ]
    }
   ],
   "source": [
    "# Define center point for the analysis area (Centro da cidade de Teresina)\n",
    "center_point = gpd.GeoSeries([Point(-5.08305465, -42.77597849)], crs='EPSG:4326').to_crs(epsg=31983)\n",
    "\n",
    "# Create the morphological graph\n",
    "print(\"🏗️  Creating morphological graph...\")\n",
    "morpho_nodes, morpho_edges = city2graph.morphological_graph(\n",
    "    buildings_gdf=buildings_gdf,\n",
    "    segments_gdf=segments_gdf,\n",
    "    center_point=center_point,\n",
    "    distance=500,                    # Analysis radius in meters\n",
    "    clipping_buffer=300,            # Buffer for edge effects\n",
    "    primary_barrier_col='barrier_geometry',\n",
    "    contiguity=\"queen\",             # Adjacency rule for tessellation\n",
    "    keep_buildings=True,            # Preserve building geometries\n",
    ")\n",
    "\n",
    "print(\"✅ Morphological graph created successfully!\")\n",
    "print(f\"📊 Network summary:\")\n",
    "print(f\"   • Node types: {list(morpho_nodes.keys())}\")\n",
    "print(f\"   • Edge types: {list(morpho_edges.keys())}\")\n",
    "print(f\"   • Private spaces: {len(morpho_nodes['private']):,}\")\n",
    "print(f\"   • Public spaces: {len(morpho_nodes['public']):,}\")\n",
    "\n",
    "for edge_type, edge_gdf in morpho_edges.items():\n",
    "    print(f\"   • {edge_type}: {len(edge_gdf):,} connections\")"
   ]
  },
  {
   "cell_type": "code",
   "execution_count": null,
   "id": "6671ee39",
   "metadata": {},
   "outputs": [],
   "source": [
    "morpho_nodes[\"private\"].head()\n"
   ]
  },
  {
   "cell_type": "code",
   "execution_count": null,
   "id": "fc70b6eb",
   "metadata": {},
   "outputs": [],
   "source": [
    "morpho_nodes[\"public\"].head()\n"
   ]
  },
  {
   "cell_type": "code",
   "execution_count": null,
   "id": "bbf644c5",
   "metadata": {},
   "outputs": [],
   "source": [
    "morpho_edges[('public', 'connected_to', 'public')].head()\n"
   ]
  },
  {
   "cell_type": "code",
   "execution_count": null,
   "id": "072f3f47",
   "metadata": {},
   "outputs": [],
   "source": [
    "morpho_edges[('private', 'faced_to', 'public')].head()\n"
   ]
  },
  {
   "cell_type": "code",
   "execution_count": null,
   "id": "09c1a8e7",
   "metadata": {},
   "outputs": [],
   "source": [
    "morpho_edges[('private', 'touched_to', 'private')].head()\n"
   ]
  },
  {
   "cell_type": "code",
   "execution_count": null,
   "id": "2af7c2ec",
   "metadata": {},
   "outputs": [],
   "source": [
    "# Set up the figure with a nice size and background\n",
    "fig, ax = plt.subplots(figsize=(14, 12), facecolor='#f9f9f9')\n",
    "\n",
    "# Plot central point\n",
    "ax.scatter(center_point.x, center_point.y, color='black', marker='*', s=200, zorder=5, label='Center Point')\n",
    "\n",
    "# Plot background elements with improved styling\n",
    "morpho_nodes[\"private\"].plot(ax=ax, color='#ADD8E6', edgecolor='#87CEEB', linewidth=0.2, alpha=0.2)\n",
    "morpho_nodes[\"private\"][\"building_geometry\"].plot(ax=ax, color='#e0e0e0', edgecolor='#c0c0c0', linewidth=0.3, alpha=0.7)\n",
    "morpho_nodes[\"public\"].plot(ax=ax, color='#404040', linewidth=0.7, alpha=0.6)\n",
    "\n",
    "# Plot the three network types with distinctive styles\n",
    "morpho_edges[('private', 'touched_to', 'private')].plot(ax=ax, color='#B22222', linewidth=1.5, alpha=0.7)\n",
    "morpho_edges[('public', 'connected_to', 'public')].plot(ax=ax, color='#0000FF', linewidth=1.0, alpha=0.7)\n",
    "morpho_edges[('private', 'faced_to', 'public')].plot(ax=ax, color='#7B68EE', linewidth=1.0, alpha=0.7, linestyle='--')\n",
    "\n",
    "# Add nodes: private nodes from tessellation centroids (red) and public nodes as midpoints of segments (blue)\n",
    "private_nodes = morpho_nodes[\"private\"].centroid\n",
    "ax.scatter(private_nodes.x, private_nodes.y, color='red', s=20, zorder=10, label='Private Spaces')\n",
    "\n",
    "public_nodes = morpho_nodes[\"public\"].geometry.apply(lambda geom: geom.interpolate(0.5, normalized=True))\n",
    "ax.scatter(public_nodes.x, public_nodes.y, color='blue', s=20, zorder=10, label='Public Spaces')\n",
    "\n",
    "# Create a legend with clear labels\n",
    "legend_elements = [\n",
    "    plt.Line2D([0], [0], color='black', marker='*', linestyle='None', markersize=10, label='Center Point'),\n",
    "    plt.Rectangle((0, 0), 1, 1, color='#e0e0e0', label='Buildings'),\n",
    "    plt.Line2D([0], [0], color='#404040', lw=1.5, label='Street Segments'),\n",
    "    plt.Rectangle((0, 0), 1, 1, color='#ADD8E6', alpha=0.3, label='Tessellation Cells'),\n",
    "    plt.Line2D([0], [0], marker='o', color='w', markerfacecolor='red', markersize=8, linestyle='None', label='Private Nodes'),\n",
    "    plt.Line2D([0], [0], marker='o', color='w', markerfacecolor='blue', markersize=8, linestyle='None', label='Public Nodes'),\n",
    "    plt.Line2D([0], [0], color='red', lw=1, label='Private-to-Private'),\n",
    "    plt.Line2D([0], [0], color='blue', lw=1, label='Public-to-Public'),\n",
    "    plt.Line2D([0], [0], color='#7B68EE', lw=1, linestyle='--', label='Private-to-Public'),\n",
    "]\n",
    "\n",
    "# Position the legend inside the plot (upper right)\n",
    "ax.legend(handles=legend_elements, loc='upper right',\n",
    "frameon=True, facecolor='white', framealpha=0.9, fontsize=12)\n",
    "\n",
    "# Add title and remove axes\n",
    "ax.set_axis_off()\n",
    "\n",
    "# Add basemap from Stamen Terrain below everything else\n",
    "cx.add_basemap(ax, crs='EPSG:27700', source=cx.providers.CartoDB.Positron, alpha=1)\n",
    "\n",
    "plt.tight_layout()\n",
    "plt.show()"
   ]
  }
 ],
 "metadata": {
  "language_info": {
   "name": "python"
  }
 },
 "nbformat": 4,
 "nbformat_minor": 5
}
